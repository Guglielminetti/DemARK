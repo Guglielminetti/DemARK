{
 "cells": [
  {
   "cell_type": "markdown",
   "metadata": {},
   "source": [
    "Run script to produce all the figures in \"Liquidity Constraints and Precautionary Savings.\" \n",
    "\n",
    "The file structure is as follows:\n",
    "\n",
    "./Calibration/  # Directory that contain the calibration file \n",
    "./Code/         # The main code, in this case LiqConstr.py\n",
    "./Figures/      # Any Figures created by the main code\n"
   ]
  },
  {
   "cell_type": "code",
   "execution_count": 1,
   "metadata": {
    "lines_to_end_of_cell_marker": 2
   },
   "outputs": [],
   "source": [
    "# This cell does some setup and imports generic tools used to produce the figures\n",
    "\n",
    "# Import related generic python packages\n",
    "import numpy as np\n",
    "\n",
    "# This is a jupytext paired notebook that autogenerates LiqConstr.py\n",
    "# which can be executed from a terminal command line via \"ipython LiqConstr.py\"\n",
    "# But a terminal does not permit inline figures, so we need to test jupyter vs terminal\n",
    "# Google \"how can I check if code is executed in the ipython notebook\"\n",
    "def in_ipynb():\n",
    "    try:\n",
    "        if str(type(get_ipython())) == \"<class 'ipykernel.zmqshell.ZMQInteractiveShell'>\":\n",
    "            return True\n",
    "        else:\n",
    "            return False\n",
    "    except NameError:\n",
    "        return False\n",
    "\n",
    "# Determine whether to make the figures inline (for spyder or jupyter)\n",
    "# vs whatever is the automatic setting that will apply if run from the terminal\n",
    "if in_ipynb():\n",
    "    # %matplotlib inline generates a syntax error when run from the shell\n",
    "    # so do this instead\n",
    "    get_ipython().run_line_magic('matplotlib', 'inline') \n",
    "else:\n",
    "    get_ipython().run_line_magic('matplotlib', 'auto') \n",
    "    \n",
    "    \n",
    "    \n",
    "import matplotlib.pyplot as plt\n",
    "\n",
    "# In order to use LaTeX to manage all text layout in our figures, we import rc settings from matplotlib.\n",
    "from matplotlib import rc\n",
    "rc('text', usetex= True)\n",
    "plt.rc('text', usetex= True)\n",
    "plt.rc('font', family='serif')\n",
    "\n",
    "\n",
    "# The warnings package allows us to ignore some harmless but alarming warning messages\n",
    "import warnings\n",
    "warnings.filterwarnings(\"ignore\")\n",
    "\n",
    "# The tools for navigating the filesystem\n",
    "import sys\n",
    "import os\n",
    "\n",
    "# Find pathname to this file:\n",
    "my_file_path = os.path.dirname(os.path.abspath(\"liqConstr.ipynb\"))\n",
    "figures_dir = os.path.join(my_file_path, \"Figures\") # Relative directory for primitive parameter files\n",
    "\n",
    "sys.path.insert(0, figures_dir)\n",
    "sys.path.insert(0, my_file_path)"
   ]
  },
  {
   "cell_type": "markdown",
   "metadata": {
    "lines_to_next_cell": 2
   },
   "source": [
    "Now we can start making the figures.  We start by importing the relevant subclass of AgentType into our workspace."
   ]
  },
  {
   "cell_type": "code",
   "execution_count": 2,
   "metadata": {},
   "outputs": [],
   "source": [
    "# Load consumer type from HARK\n",
    "from HARK.ConsumptionSaving.ConsIndShockModel import IndShockConsumerType"
   ]
  },
  {
   "cell_type": "markdown",
   "metadata": {},
   "source": [
    "Define all parameters of three type of settings that we need to produce the three figures in the paper. \n"
   ]
  },
  {
   "cell_type": "code",
   "execution_count": 3,
   "metadata": {
    "lines_to_next_cell": 0
   },
   "outputs": [],
   "source": [
    "# Common parameters for all models (the initialized lifecycle perfect foresight type with no borrowing constraint)\n",
    "\n",
    "# load default parameteres from the lifecycle model in the HARK toolbox\n",
    "from HARK.ConsumptionSaving.ConsumerParameters import init_lifecycle\n",
    "\n",
    "# remove all risk and growth factors, borrowing constraints, and set the solver to always use the cubic tool\n",
    "init_lifecycle[\"PermGroFac\"] = [1,1,1,1,1,1,1,1,1,1]\n",
    "init_lifecycle[\"LivPrb\"] = [1,1,1,1,1,1,1,1,1,1]\n",
    "init_lifecycle[\"DiscFac\"] = 1/1.03\n",
    "init_lifecycle[\"T_retire\"] = None\n",
    "init_lifecycle[\"UnempPrb\"] = 0\n",
    "init_lifecycle[\"TranShkStd\"] = [0,0,0,0,0,0,0,0,0,0,0]\n",
    "init_lifecycle[\"PermShkStd\"] = [0,0,0,0,0,0,0,0,0,0,0]\n",
    "init_lifecycle[\"BoroCnstArt\"] = [None,None,None,None,None,None,None,None,None,None]\n",
    "init_lifecycle[\"CubicTool\"] = True  \n",
    "\n",
    "# add the second type of lifecycle agent with unemployment risk\n",
    "init_lifecycle_risk1 = dict(init_lifecycle)\n",
    "init_lifecycle_risk1[\"IncUnemp\"] = 0.1955\n",
    "init_lifecycle_risk1[\"UnempPrb\"] = 0.05\n",
    "\n",
    "# the lifecycle type with only one-period transitory risk\n",
    "init_lifecycle_risk2 = dict(init_lifecycle)\n",
    "init_lifecycle_risk2[\"TranShkStd\"] = [0,0.5,0,0,0,0,0,0,0,0,0]\n"
   ]
  },
  {
   "cell_type": "markdown",
   "metadata": {},
   "source": [
    "Make figure 1: Counterclockwise concavifications"
   ]
  },
  {
   "cell_type": "code",
   "execution_count": 4,
   "metadata": {},
   "outputs": [
    {
     "name": "stdout",
     "output_type": "stream",
     "text": [
      "Figure 1: Counterclockwise Concavifications\n"
     ]
    },
    {
     "data": {
      "image/png": "[encoded data removed]",
      "text/plain": [
       "<Figure size 432x288 with 1 Axes>"
      ]
     },
     "metadata": {},
     "output_type": "display_data"
    }
   ],
   "source": [
    "# This figure illustrates how both risks and constraints are examples of counterclockwise concavifications. \n",
    "# It plots three lines: the linear consumption function of a perfect foresight consumer, the kinked consumption \n",
    "# function of a consumer who faces a constraint, and the curved consumption function of a consumer that faces risk. \n",
    "\n",
    "# load the three agents: unconstrained perfect foresight, constrained perfect foresight, unconstrained with risk\n",
    "\n",
    "CCC_unconstr = IndShockConsumerType(**init_lifecycle)\n",
    "CCC_unconstr.delFromTimeInv('BoroCnstArt')\n",
    "CCC_unconstr.addToTimeVary('BoroCnstArt')\n",
    "CCC_unconstr.solve()\n",
    "CCC_unconstr.unpackcFunc()\n",
    "CCC_unconstr.timeFwd()\n",
    "\n",
    "CCC_constraint = IndShockConsumerType(**init_lifecycle)\n",
    "CCC_constraint.delFromTimeInv('BoroCnstArt')\n",
    "CCC_constraint.addToTimeVary('BoroCnstArt')\n",
    "CCC_constraint(BoroCnstArt = [None,-1,None,None,None,None,None,None,None,None])       \n",
    "CCC_constraint.solve()\n",
    "CCC_constraint.unpackcFunc()\n",
    "CCC_constraint.timeFwd()\n",
    "\n",
    "CCC_risk = IndShockConsumerType(**init_lifecycle_risk1)\n",
    "CCC_risk.delFromTimeInv('BoroCnstArt')\n",
    "CCC_risk.addToTimeVary('BoroCnstArt')\n",
    "CCC_risk.solve()\n",
    "CCC_risk.unpackcFunc()\n",
    "CCC_risk.timeFwd()\n",
    "\n",
    "# save the data in a txt file for later plotting in Matlab\n",
    "x = np.linspace(-1,1,500,endpoint=True)\n",
    "y = CCC_unconstr.cFunc[0](x)\n",
    "y2 = CCC_constraint.cFunc[0](x)  \n",
    "y3 = CCC_risk.cFunc[0](x)\n",
    "with open(os.path.join(figures_dir, 'CounterclockwiseConcavifications.txt'),'w') as table:\n",
    "    for row in zip(x,y,y2,y3):\n",
    "        for cell in row:\n",
    "            table.write(str(cell) + ';')\n",
    "        table.write('\\n')\n",
    "\n",
    "# Display the figure\n",
    "print('Figure 1: Counterclockwise Concavifications')\n",
    "f = plt.figure()\n",
    "plt.plot(x,y,color=\"black\")\n",
    "plt.plot(x,y2,color=\"black\",linestyle=\"--\")\n",
    "plt.plot(x,y3,color=\"black\",linestyle=\"--\")\n",
    "plt.tick_params(labelbottom=False, labelleft=False,left='off',right='off',bottom='off',top='off')    \n",
    "\n",
    "plt.text(-1.2,1.0,\"$c$\",fontsize=14)    \n",
    "plt.text(1.12,0.42,\"$w$\",fontsize=14) \n",
    "plt.text(-0.25,0.42,\"$w^{\\#}$\",fontsize=14) \n",
    "plt.plot([-0.23, -0.23],[0.45,0.87],color=\"black\",linestyle=\":\",linewidth=1)\n",
    "plt.ylim(0.465,1.0)\n",
    "\n",
    "plt.arrow(-0.6,0.755,0.1,0,head_width=0.01,width=0.001,facecolor='black',length_includes_head='True')\n",
    "plt.arrow(-0.04,0.757,-0.1,0,head_width=0.01,width=0.001,facecolor='black',length_includes_head='True')\n",
    "\n",
    "plt.text(-0.02,0.75,\"$Risk$\",fontsize=10)\n",
    "plt.text(-0.95,0.75,\"$Constraint$\",fontsize=10)\n",
    "\n",
    "\n",
    "plt.show()\n",
    "f.savefig(os.path.join(figures_dir, 'CounterclockwiseConcavifications.pdf'))\n",
    "f.savefig(os.path.join(figures_dir, 'CounterclockwiseConcavifications.png'))"
   ]
  },
  {
   "cell_type": "markdown",
   "metadata": {},
   "source": [
    "Make figure 2: How a current constraint can hide a future kink"
   ]
  },
  {
   "cell_type": "code",
   "execution_count": 5,
   "metadata": {},
   "outputs": [
    {
     "name": "stdout",
     "output_type": "stream",
     "text": [
      "Figure 2: How a Current Constraint Can Hide a Future Kink\n"
     ]
    },
    {
     "data": {
      "image/png": "[encoded data removed]",
      "text/plain": [
       "<Figure size 432x288 with 1 Axes>"
      ]
     },
     "metadata": {},
     "output_type": "display_data"
    }
   ],
   "source": [
    "# This figure illustrates how a the introduction of a current constraint can hide/move a kink that was induced by a future constraint. \n",
    "\n",
    "# To construct this figure, we plot two consumption functions: \n",
    "# 1) perfect foresight consumer that faces one constraint in period 2\n",
    "# 2) perfect foresight consumer that faces the same constraint as above plus one more constraint in period 3\n",
    "\n",
    "# Both consumption functions first loads the parameter set of the perfect foresight lifecycle households with ten periods. \n",
    "# We then change the parameter \"BoroCnstArt\" which corresponds to big Tau in the paper, i.e. the set of future constraints ordered by time.\n",
    "\n",
    "# Make and solve the consumer with only one borrowing constraint\n",
    "Bcons1 = IndShockConsumerType(**init_lifecycle)\n",
    "Bcons1.delFromTimeInv('BoroCnstArt')\n",
    "Bcons1.addToTimeVary('BoroCnstArt')\n",
    "Bcons1(BoroCnstArt = [None,0,None,None,None,None,None,None,None,None])       \n",
    "Bcons1.solve()\n",
    "Bcons1.unpackcFunc()\n",
    "Bcons1.timeFwd()\n",
    "\n",
    "# Make and solve the consumer with more than one binding borrowing constraint\n",
    "BCons2 = IndShockConsumerType(**init_lifecycle)\n",
    "BCons2.delFromTimeInv('BoroCnstArt')\n",
    "BCons2.addToTimeVary('BoroCnstArt')\n",
    "BCons2(BoroCnstArt = [None,0,0.02,None,None,None,None,None,None,None])\n",
    "BCons2.solve()\n",
    "BCons2.unpackcFunc()\n",
    "BCons2.timeFwd()    \n",
    "\n",
    "# save the data in a txt file\n",
    "x = np.linspace(1,1.2,500,endpoint=True)\n",
    "y = Bcons1.cFunc[0](x)\n",
    "y2 = BCons2.cFunc[0](x)  \n",
    "with open(os.path.join(figures_dir, 'CurrConstrHidesFutKink.txt'),'w') as table:\n",
    "    for row in zip(x,y,y2):\n",
    "        for cell in row:\n",
    "            table.write(str(cell) + ';')\n",
    "        table.write('\\n')\n",
    "\n",
    "# Display the figure\n",
    "print('Figure 2: How a Current Constraint Can Hide a Future Kink')\n",
    "\n",
    "f = plt.figure()\n",
    "plt.plot(x,y,color=\"black\")\n",
    "plt.plot(x,y2,color=\"black\")\n",
    "plt.text(1.15,1.01,\"$\\hat{c}_{t,2}$\",fontsize=14)\n",
    "plt.text(1.07,1.01,\"$c_{t,1}$\",fontsize=14)\n",
    "plt.arrow(1.149,1.011,-0.01,0,head_width=0.001,width=0.0001,facecolor='black',length_includes_head='True')\n",
    "plt.arrow(1.085,1.011,0.01,0,head_width=0.001,width=0.0001,facecolor='black',length_includes_head='True')\n",
    "\n",
    "plt.xlim(left=1.0,right=1.2)\n",
    "plt.ylim(0.98,1.025)\n",
    "plt.tick_params(labelbottom=False, labelleft=False,left='off',right='off',bottom='off',top='off')    \n",
    "\n",
    "plt.text(0.99,1.025,\"$c$\",fontsize=14)    \n",
    "plt.text(1.20,0.978,\"$w$\",fontsize=14)  \n",
    "\n",
    "plt.text(0.97, 1.0015,\"$\\hat{c}_{t,2}(w_{t,1})$\", fontsize=14) \n",
    "plt.text(0.988, 1.006,\"${c}_{t,1}^{\\#}$\", fontsize=14) \n",
    "plt.text(0.988, 1.019,\"$\\hat{c}_{t,1}^{\\#}$\", fontsize=14)    \n",
    "\n",
    "plt.text(1.064, 0.977,\"$w_{t,1}$\", fontsize=14) \n",
    "plt.text(1.05, 0.977,\"$\\hat{w}_{t,2}$\", fontsize=14) \n",
    "plt.text(1.18, 0.977,\"$\\hat{w}_{t,1}$\", fontsize=14)        \n",
    "\n",
    "plt.plot([1, 1.064],[1.0068,1.0068],color=\"black\",linestyle=\"--\")\n",
    "plt.plot([1, 1.064],[1.0015, 1.0015],color=\"black\",linestyle=\"--\")\n",
    "plt.plot([1, 1.18],[1.019, 1.019],color=\"black\",linestyle=\"--\")\n",
    "plt.plot([1.058, 1.058],[0.98, 1.0008],color=\"black\",linestyle=\"--\")\n",
    "plt.plot([1.18, 1.18],[0.98, 1.019],color=\"black\",linestyle=\"--\")\n",
    "plt.plot([1.064, 1.064],[1.0068, 0.98],color=\"black\",linestyle=\"--\")\n",
    "plt.show()\n",
    "f.savefig(os.path.join(figures_dir, 'CurrConstrHidesFutKink.pdf'))\n",
    "f.savefig(os.path.join(figures_dir, 'CurrConstrHidesFutKink.png'))"
   ]
  },
  {
   "cell_type": "markdown",
   "metadata": {},
   "source": [
    "Make figure 3: Consumption function with and without a constraint and a risk"
   ]
  },
  {
   "cell_type": "code",
   "execution_count": 6,
   "metadata": {
    "lines_to_next_cell": 0
   },
   "outputs": [
    {
     "name": "stdout",
     "output_type": "stream",
     "text": [
      "Figure 3: Consumption Functions With and Without a Constraint and a Risk\n"
     ]
    },
    {
     "data": {
      "image/png": "[encoded data removed]",
      "text/plain": [
       "<Figure size 432x288 with 1 Axes>"
      ]
     },
     "metadata": {},
     "output_type": "display_data"
    }
   ],
   "source": [
    "# This figure illustrates how the effect of risk is greater if there already exists a constraint. \n",
    "\n",
    "# Initialize four types: unconstrained perfect foresight, unconstrained with risk, constrained perfect foresight, and constrained with risk. \n",
    "\n",
    "WwCR_unconstr = IndShockConsumerType(**init_lifecycle)\n",
    "WwCR_unconstr.delFromTimeInv('BoroCnstArt')\n",
    "WwCR_unconstr.addToTimeVary('BoroCnstArt')\n",
    "WwCR_unconstr.solve()\n",
    "WwCR_unconstr.unpackcFunc()\n",
    "WwCR_unconstr.timeFwd()\n",
    "\n",
    "WwCR_risk = IndShockConsumerType(**init_lifecycle_risk2)\n",
    "WwCR_risk.delFromTimeInv('BoroCnstArt')\n",
    "WwCR_risk.addToTimeVary('BoroCnstArt')\n",
    "WwCR_risk.solve()\n",
    "WwCR_risk.unpackcFunc()\n",
    "WwCR_risk.timeFwd()\n",
    "\n",
    "WwCR_constr = IndShockConsumerType(**init_lifecycle)\n",
    "WwCR_constr.cycles = 1 # Make this consumer live a sequence of periods exactly once\n",
    "WwCR_constr.delFromTimeInv('BoroCnstArt')\n",
    "WwCR_constr.addToTimeVary('BoroCnstArt')\n",
    "WwCR_constr(BoroCnstArt = [None,None,-6,None,None,None,None,None,None,None])\n",
    "WwCR_constr.solve()\n",
    "WwCR_constr.unpackcFunc()\n",
    "WwCR_constr.timeFwd()\n",
    "\n",
    "WwCR_constr_risk = IndShockConsumerType(**init_lifecycle_risk2)\n",
    "WwCR_constr_risk.delFromTimeInv('BoroCnstArt')\n",
    "WwCR_constr_risk.addToTimeVary('BoroCnstArt')\n",
    "WwCR_constr_risk(BoroCnstArt = [None,None,-6,None,None,None,None,None,None,None])\n",
    "WwCR_constr_risk.solve()\n",
    "WwCR_constr_risk.unpackcFunc()\n",
    "WwCR_constr_risk.timeFwd()\n",
    "\n",
    "# save the data in a txt file\n",
    "x = np.linspace(-8,-4,1000,endpoint=True)\n",
    "y = WwCR_unconstr.cFunc[1](x)\n",
    "y2 = WwCR_risk.cFunc[1](x)\n",
    "y3 = WwCR_constr.cFunc[1](x) \n",
    "y4 = WwCR_constr_risk.cFunc[1](x) \n",
    "with open(os.path.join(figures_dir, 'ConsWithWithoutConstrAndRisk.txt'),'w') as table:\n",
    "    for row in zip(x,y,y2,y3,y4):\n",
    "        for cell in row:\n",
    "            table.write(str(cell) + ';')\n",
    "        table.write('\\n')\n",
    "\n",
    "# Display the figure\n",
    "print('Figure 3: Consumption Functions With and Without a Constraint and a Risk')\n",
    "\n",
    "f = plt.figure()\n",
    "plt.plot(x,y,color=\"black\",linewidth=3)\n",
    "plt.plot(x,y2,color=\"black\",linestyle=\"--\",linewidth=3)\n",
    "plt.plot(x,y3,color=\"black\")\n",
    "plt.plot(x,y4,color=\"black\",linestyle=\"--\")\n",
    "plt.xlim(left=-8,right=-4.5)\n",
    "plt.ylim(0,0.30)\n",
    "plt.text(-8.15,0.305,\"$c$\",fontsize=14)    \n",
    "plt.text(-4.5,-0.02,\"$w$\",fontsize=14)  \n",
    "plt.text(-6,0.25,\"${c}_{t,0}$\",fontsize=14)\n",
    "plt.text(-5.2,0.25,r\"$\\tilde{c}_{t,0}$\",fontsize=14)\n",
    "plt.text(-7.45,0.02,\"${c}_{t,1}$\",fontsize=14)\n",
    "plt.text(-5.7,0.05,r\"$\\tilde{c}_{t,1}$\",fontsize=14)\n",
    "\n",
    "plt.arrow(-5.22,0.255,-0.1,0,head_width=0.005,head_length=0.05,facecolor='black',length_includes_head='True')\n",
    "plt.arrow(-5.75,0.255,0.1,0,head_width=0.005,head_length=0.05,facecolor='black',length_includes_head='True')\n",
    "plt.arrow(-5.75,0.055,-0.32,0,head_width=0.005,head_length=0.05,facecolor='black',length_includes_head='True')\n",
    "plt.arrow(-7.25,0.025,0.45,0.0,head_width=0.005,head_length=0.05,facecolor='black',length_includes_head='True')\n",
    "\n",
    "#plt.plot([-6.15,-6.15],[0,0.05],color=\"black\",linestyle=\":\")\n",
    "plt.plot([-6.5,-6.5],[0,0.145],color=\"black\",linestyle=\":\")\n",
    "plt.plot([-5.88,-5.88],[0,0.2],color=\"black\",linestyle=\":\")\n",
    "\n",
    "#plt.text(-6.2,-0.02,r\"$\\underline{w}_{t,1}$\",fontsize=14)    \n",
    "plt.text(-6.6,-0.02,r\"${w}_{t,1}$\",fontsize=14)     \n",
    "plt.text(-5.95,-0.02,r\"$\\bar{w}_{t,1}$\",fontsize=14) \n",
    "\n",
    "plt.tick_params(labelbottom=False, labelleft=False,left='off',right='off',bottom='off',top='off')    \n",
    "\n",
    "plt.show()\n",
    "f.savefig(os.path.join(figures_dir, 'ConsWithWithoutConstrAndRisk.pdf'))\n",
    "f.savefig(os.path.join(figures_dir, 'ConsWithWithoutConstrAndRisk.png'))"
   ]
  },
  {
   "cell_type": "code",
   "execution_count": null,
   "metadata": {
    "lines_to_next_cell": 2
   },
   "outputs": [],
   "source": []
  }
 ],
 "metadata": {
  "jupytext": {
   "formats": "ipynb,py:light",
   "text_representation": {
    "extension": ".py",
    "format_name": "light",
    "format_version": "1.3",
    "jupytext_version": "0.8.6"
   }
  },
  "kernelspec": {
   "display_name": "Python 2",
   "language": "python",
   "name": "python2"
  },
  "language_info": {
   "codemirror_mode": {
    "name": "ipython",
    "version": 2
   },
   "file_extension": ".py",
   "mimetype": "text/x-python",
   "name": "python",
   "nbconvert_exporter": "python",
   "pygments_lexer": "ipython2",
   "version": "2.7.15"
  }
 },
 "nbformat": 4,
 "nbformat_minor": 2
}
